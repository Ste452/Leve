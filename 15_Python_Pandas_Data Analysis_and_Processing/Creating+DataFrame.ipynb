{
 "cells": [
  {
   "cell_type": "code",
   "execution_count": 1,
   "id": "43ecd908",
   "metadata": {},
   "outputs": [
    {
     "name": "stdout",
     "output_type": "stream",
     "text": [
      "Requirement already satisfied: pandas in c:\\users\\55119\\anaconda3\\lib\\site-packages (1.2.4)\n",
      "Requirement already satisfied: pytz>=2017.3 in c:\\users\\55119\\anaconda3\\lib\\site-packages (from pandas) (2021.1)\n",
      "Requirement already satisfied: numpy>=1.16.5 in c:\\users\\55119\\anaconda3\\lib\\site-packages (from pandas) (1.20.1)\n",
      "Requirement already satisfied: python-dateutil>=2.7.3 in c:\\users\\55119\\anaconda3\\lib\\site-packages (from pandas) (2.8.1)\n",
      "Requirement already satisfied: six>=1.5 in c:\\users\\55119\\anaconda3\\lib\\site-packages (from python-dateutil>=2.7.3->pandas) (1.15.0)\n",
      "Note: you may need to restart the kernel to use updated packages.\n"
     ]
    }
   ],
   "source": [
    "pip install pandas"
   ]
  },
  {
   "cell_type": "code",
   "execution_count": 2,
   "id": "55786a77",
   "metadata": {},
   "outputs": [
    {
     "name": "stdout",
     "output_type": "stream",
     "text": [
      "Requirement already satisfied: numpy in c:\\users\\55119\\anaconda3\\lib\\site-packages (1.20.1)\n",
      "Note: you may need to restart the kernel to use updated packages.\n"
     ]
    }
   ],
   "source": [
    "pip install numpy"
   ]
  },
  {
   "cell_type": "code",
   "execution_count": 9,
   "id": "58dbfba1",
   "metadata": {},
   "outputs": [
    {
     "name": "stdout",
     "output_type": "stream",
     "text": [
      "DatetimeIndex(['2022-12-01', '2022-12-02', '2022-12-03', '2022-12-04',\n",
      "               '2022-12-05', '2022-12-06', '2022-12-07', '2022-12-08',\n",
      "               '2022-12-09', '2022-12-10', '2022-12-11', '2022-12-12',\n",
      "               '2022-12-13', '2022-12-14', '2022-12-15', '2022-12-16',\n",
      "               '2022-12-17', '2022-12-18', '2022-12-19', '2022-12-20',\n",
      "               '2022-12-21', '2022-12-22', '2022-12-23', '2022-12-24',\n",
      "               '2022-12-25', '2022-12-26', '2022-12-27', '2022-12-28',\n",
      "               '2022-12-29', '2022-12-30', '2022-12-31'],\n",
      "              dtype='datetime64[ns]', freq='D')\n"
     ]
    }
   ],
   "source": [
    "import pandas as opcoesPandas\n",
    "import numpy as opcoesNumpy\n",
    "\n",
    "#periods = quantos dias\n",
    "#20221201 = Ano / Mês / Dia\n",
    "dataFrame_Datas = opcoesPandas.date_range(\"20221201\", periods=31)\n",
    "\n",
    "print(dataFrame_Datas)"
   ]
  },
  {
   "cell_type": "code",
   "execution_count": 10,
   "id": "d8fce9f5",
   "metadata": {},
   "outputs": [
    {
     "name": "stdout",
     "output_type": "stream",
     "text": [
      "DatetimeIndex(['2022-12-31', '2023-01-31', '2023-02-28', '2023-03-31',\n",
      "               '2023-04-30', '2023-05-31', '2023-06-30', '2023-07-31',\n",
      "               '2023-08-31', '2023-09-30', '2023-10-31', '2023-11-30'],\n",
      "              dtype='datetime64[ns]', freq='M')\n"
     ]
    }
   ],
   "source": [
    "import pandas as opcoesPandas\n",
    "import numpy as opcoesNumpy\n",
    "\n",
    "#periods = quantos dias\n",
    "#20221201 = Ano / Mês / Dia\n",
    "dataFrame_Meses = opcoesPandas.date_range(\"20221231\", periods=12, freq=\"M\")\n",
    "\n",
    "print(dataFrame_Meses)"
   ]
  },
  {
   "cell_type": "code",
   "execution_count": 5,
   "id": "2924b868",
   "metadata": {},
   "outputs": [
    {
     "name": "stdout",
     "output_type": "stream",
     "text": [
      "          0\n",
      "0  0.046111\n",
      "1  0.551313\n",
      "2  0.089634\n",
      "3  0.211996\n",
      "4  0.507260\n"
     ]
    }
   ],
   "source": [
    "import pandas as opcoesPandas\n",
    "import numpy as opcoesNumpy\n",
    "\n",
    "#DataFrame de números aleatórios\n",
    "numerosAleatorios = opcoesPandas.DataFrame(opcoesNumpy.random.rand(5,1))\n",
    "\n",
    "print(numerosAleatorios)\n"
   ]
  },
  {
   "cell_type": "code",
   "execution_count": 7,
   "id": "43c1422e",
   "metadata": {},
   "outputs": [
    {
     "name": "stdout",
     "output_type": "stream",
     "text": [
      "            0          1          2          3          4          5  \\\n",
      "0   85.130684  77.842652  38.057274  33.784942  21.328098  16.826092   \n",
      "1    2.198573  93.990697  99.809647  15.892842  51.004704  33.279872   \n",
      "2   97.364105  58.704292  51.295368  98.287656  57.475987  50.682113   \n",
      "3   99.339769  49.141652  32.053729  20.049329   5.773589  99.016604   \n",
      "4   38.134729  49.426503  86.566927  93.584837  49.734767  61.431851   \n",
      "5    8.629285  85.150930  52.164603   8.886264  90.431439  33.611209   \n",
      "6   60.357012  12.433253   1.919096  31.449139  71.256649  13.231564   \n",
      "7    0.120394  26.115623  69.601047  89.304978   9.342953  22.331535   \n",
      "8   90.351290  25.817461  45.526444  95.839822  83.267230  34.051196   \n",
      "9   30.686087  44.340403  12.848853  50.661919  20.385763  20.394323   \n",
      "10  15.852598  67.711238  50.809899  35.387932  70.414452  70.140613   \n",
      "11  42.745636  26.753283  92.407831  35.585259  55.071269  17.488694   \n",
      "12   8.648005  59.516002  75.440653  40.004039   8.423423  20.471380   \n",
      "13  89.646285  95.445176   0.765351  19.624848  87.308615  27.046243   \n",
      "14  87.256444  73.920286  11.334879  59.335407   3.670694  69.923940   \n",
      "\n",
      "            6          7          8          9  \n",
      "0   39.520018  90.976280  82.018089  50.161389  \n",
      "1   28.604319  12.661602  74.063040  15.426838  \n",
      "2   48.642853  33.805956  32.490842  27.372528  \n",
      "3   25.062150  51.454213  31.636893  41.321516  \n",
      "4   13.949919  14.069474  20.123055  28.240083  \n",
      "5   65.896667  99.837370  80.434301  19.223058  \n",
      "6   76.722427  29.177937  61.225862  76.242593  \n",
      "7   45.169137  96.512009  26.014251   4.061897  \n",
      "8   79.018431  65.559830  18.501453  20.350320  \n",
      "9   21.900373  41.695065  28.646323  33.006254  \n",
      "10  19.678511  39.009927  94.347685  40.067040  \n",
      "11  54.021573   5.195571  98.446251  26.982301  \n",
      "12  32.808624  47.294378  32.370630   9.333107  \n",
      "13  81.996590  74.880434  77.583501  39.639900  \n",
      "14  55.374266  84.660618  40.568161  74.528773  \n"
     ]
    }
   ],
   "source": [
    "import pandas as opcoesPandas\n",
    "import numpy as opcoesNumpy\n",
    "\n",
    "#DataFrame de números aleatórios\n",
    "numeros = opcoesPandas.DataFrame(opcoesNumpy.random.rand(15,10)*100)\n",
    "\n",
    "print(numeros)"
   ]
  },
  {
   "cell_type": "code",
   "execution_count": 8,
   "id": "e89cd725",
   "metadata": {},
   "outputs": [
    {
     "name": "stdout",
     "output_type": "stream",
     "text": [
      "    Nome  Média\n",
      "0    Ana      9\n",
      "1  Pedro      7\n",
      "2   João     10\n"
     ]
    }
   ],
   "source": [
    "import pandas as opcoesPandas\n",
    "import numpy as opcoesNumpy\n",
    "\n",
    "notasAlunos_DF = opcoesPandas.DataFrame({\n",
    "    \n",
    "    \"Nome\": [\"Ana\", \"Pedro\", \"João\"],\n",
    "    \"Média\": [9, 7, 10]\n",
    "    \n",
    "})\n",
    "\n",
    "print(notasAlunos_DF)"
   ]
  },
  {
   "cell_type": "code",
   "execution_count": null,
   "id": "170f86aa",
   "metadata": {},
   "outputs": [],
   "source": []
  }
 ],
 "metadata": {
  "kernelspec": {
   "display_name": "Python 3",
   "language": "python",
   "name": "python3"
  },
  "language_info": {
   "codemirror_mode": {
    "name": "ipython",
    "version": 3
   },
   "file_extension": ".py",
   "mimetype": "text/x-python",
   "name": "python",
   "nbconvert_exporter": "python",
   "pygments_lexer": "ipython3",
   "version": "3.8.8"
  }
 },
 "nbformat": 4,
 "nbformat_minor": 5
}
